{
 "cells": [
  {
   "cell_type": "markdown",
   "metadata": {},
   "source": [
    "## Observations and Insights "
   ]
  },
  {
   "cell_type": "markdown",
   "metadata": {},
   "source": []
  },
  {
   "cell_type": "code",
   "execution_count": 1,
   "metadata": {},
   "outputs": [],
   "source": [
    "# Dependencies and Setup\n",
    "import matplotlib.pyplot as plt\n",
    "import pandas as pd\n",
    "import scipy.stats as st\n",
    "import numpy as np\n",
    "\n",
    "# Study data files\n",
    "mouse_metadata_path = \"data/Mouse_metadata.csv\"\n",
    "study_results_path = \"data/Study_results.csv\"\n",
    "\n",
    "# Read the mouse data and the study results\n",
    "mouse_metadata = pd.read_csv(mouse_metadata_path)\n",
    "study_results = pd.read_csv(study_results_path)"
   ]
  },
  {
   "cell_type": "code",
   "execution_count": 2,
   "metadata": {},
   "outputs": [
    {
     "name": "stdout",
     "output_type": "stream",
     "text": [
      "---- Mouse ID ---\n",
      "g989    13\n",
      "o562    10\n",
      "a685    10\n",
      "m601    10\n",
      "s565    10\n",
      "        ..\n",
      "o848     1\n",
      "u153     1\n",
      "b447     1\n",
      "n482     1\n",
      "v199     1\n",
      "Name: Mouse ID, Length: 249, dtype: int64\n",
      "---- Timepoint ---\n",
      "0     250\n",
      "5     238\n",
      "10    223\n",
      "15    207\n",
      "20    195\n",
      "25    183\n",
      "30    171\n",
      "35    154\n",
      "40    142\n",
      "45    130\n",
      "Name: Timepoint, dtype: int64\n",
      "---- Tumor Volume (mm3) ---\n",
      "45.000000    250\n",
      "48.009190      1\n",
      "54.041333      1\n",
      "69.265747      1\n",
      "42.368692      1\n",
      "            ... \n",
      "44.006257      1\n",
      "35.569399      1\n",
      "52.068486      1\n",
      "59.011728      1\n",
      "29.128472      1\n",
      "Name: Tumor Volume (mm3), Length: 1644, dtype: int64\n",
      "---- Metastatic Sites ---\n",
      "0    793\n",
      "1    590\n",
      "2    274\n",
      "3    148\n",
      "4     88\n",
      "Name: Metastatic Sites, dtype: int64\n"
     ]
    }
   ],
   "source": [
    "# Explore data\n",
    "\n",
    "for c in study_results.columns:\n",
    "    print(\"---- %s ---\" % c)\n",
    "    print(study_results[c].value_counts())\n",
    "    \n",
    "    \n",
    "# for col in mouse_metadata:\n",
    "#         print(col, mouse_metadata[col].unique())\n",
    "\n"
   ]
  },
  {
   "cell_type": "code",
   "execution_count": 3,
   "metadata": {},
   "outputs": [
    {
     "data": {
      "text/html": [
       "<div>\n",
       "<style scoped>\n",
       "    .dataframe tbody tr th:only-of-type {\n",
       "        vertical-align: middle;\n",
       "    }\n",
       "\n",
       "    .dataframe tbody tr th {\n",
       "        vertical-align: top;\n",
       "    }\n",
       "\n",
       "    .dataframe thead th {\n",
       "        text-align: right;\n",
       "    }\n",
       "</style>\n",
       "<table border=\"1\" class=\"dataframe\">\n",
       "  <thead>\n",
       "    <tr style=\"text-align: right;\">\n",
       "      <th></th>\n",
       "      <th>Mouse ID</th>\n",
       "      <th>Drug Regimen</th>\n",
       "      <th>Sex</th>\n",
       "      <th>Age_months</th>\n",
       "      <th>Weight (g)</th>\n",
       "      <th>Timepoint</th>\n",
       "      <th>Tumor Volume (mm3)</th>\n",
       "      <th>Metastatic Sites</th>\n",
       "    </tr>\n",
       "  </thead>\n",
       "  <tbody>\n",
       "    <tr>\n",
       "      <th>0</th>\n",
       "      <td>k403</td>\n",
       "      <td>Ramicane</td>\n",
       "      <td>Male</td>\n",
       "      <td>21</td>\n",
       "      <td>16</td>\n",
       "      <td>0</td>\n",
       "      <td>45.000000</td>\n",
       "      <td>0</td>\n",
       "    </tr>\n",
       "    <tr>\n",
       "      <th>1</th>\n",
       "      <td>k403</td>\n",
       "      <td>Ramicane</td>\n",
       "      <td>Male</td>\n",
       "      <td>21</td>\n",
       "      <td>16</td>\n",
       "      <td>5</td>\n",
       "      <td>38.825898</td>\n",
       "      <td>0</td>\n",
       "    </tr>\n",
       "    <tr>\n",
       "      <th>2</th>\n",
       "      <td>k403</td>\n",
       "      <td>Ramicane</td>\n",
       "      <td>Male</td>\n",
       "      <td>21</td>\n",
       "      <td>16</td>\n",
       "      <td>10</td>\n",
       "      <td>35.014271</td>\n",
       "      <td>1</td>\n",
       "    </tr>\n",
       "    <tr>\n",
       "      <th>3</th>\n",
       "      <td>k403</td>\n",
       "      <td>Ramicane</td>\n",
       "      <td>Male</td>\n",
       "      <td>21</td>\n",
       "      <td>16</td>\n",
       "      <td>15</td>\n",
       "      <td>34.223992</td>\n",
       "      <td>1</td>\n",
       "    </tr>\n",
       "    <tr>\n",
       "      <th>4</th>\n",
       "      <td>k403</td>\n",
       "      <td>Ramicane</td>\n",
       "      <td>Male</td>\n",
       "      <td>21</td>\n",
       "      <td>16</td>\n",
       "      <td>20</td>\n",
       "      <td>32.997729</td>\n",
       "      <td>1</td>\n",
       "    </tr>\n",
       "    <tr>\n",
       "      <th>...</th>\n",
       "      <td>...</td>\n",
       "      <td>...</td>\n",
       "      <td>...</td>\n",
       "      <td>...</td>\n",
       "      <td>...</td>\n",
       "      <td>...</td>\n",
       "      <td>...</td>\n",
       "      <td>...</td>\n",
       "    </tr>\n",
       "    <tr>\n",
       "      <th>1888</th>\n",
       "      <td>z969</td>\n",
       "      <td>Naftisol</td>\n",
       "      <td>Male</td>\n",
       "      <td>9</td>\n",
       "      <td>30</td>\n",
       "      <td>25</td>\n",
       "      <td>63.145652</td>\n",
       "      <td>2</td>\n",
       "    </tr>\n",
       "    <tr>\n",
       "      <th>1889</th>\n",
       "      <td>z969</td>\n",
       "      <td>Naftisol</td>\n",
       "      <td>Male</td>\n",
       "      <td>9</td>\n",
       "      <td>30</td>\n",
       "      <td>30</td>\n",
       "      <td>65.841013</td>\n",
       "      <td>3</td>\n",
       "    </tr>\n",
       "    <tr>\n",
       "      <th>1890</th>\n",
       "      <td>z969</td>\n",
       "      <td>Naftisol</td>\n",
       "      <td>Male</td>\n",
       "      <td>9</td>\n",
       "      <td>30</td>\n",
       "      <td>35</td>\n",
       "      <td>69.176246</td>\n",
       "      <td>4</td>\n",
       "    </tr>\n",
       "    <tr>\n",
       "      <th>1891</th>\n",
       "      <td>z969</td>\n",
       "      <td>Naftisol</td>\n",
       "      <td>Male</td>\n",
       "      <td>9</td>\n",
       "      <td>30</td>\n",
       "      <td>40</td>\n",
       "      <td>70.314904</td>\n",
       "      <td>4</td>\n",
       "    </tr>\n",
       "    <tr>\n",
       "      <th>1892</th>\n",
       "      <td>z969</td>\n",
       "      <td>Naftisol</td>\n",
       "      <td>Male</td>\n",
       "      <td>9</td>\n",
       "      <td>30</td>\n",
       "      <td>45</td>\n",
       "      <td>73.867845</td>\n",
       "      <td>4</td>\n",
       "    </tr>\n",
       "  </tbody>\n",
       "</table>\n",
       "<p>1893 rows × 8 columns</p>\n",
       "</div>"
      ],
      "text/plain": [
       "     Mouse ID Drug Regimen   Sex  Age_months  Weight (g)  Timepoint  \\\n",
       "0        k403     Ramicane  Male          21          16          0   \n",
       "1        k403     Ramicane  Male          21          16          5   \n",
       "2        k403     Ramicane  Male          21          16         10   \n",
       "3        k403     Ramicane  Male          21          16         15   \n",
       "4        k403     Ramicane  Male          21          16         20   \n",
       "...       ...          ...   ...         ...         ...        ...   \n",
       "1888     z969     Naftisol  Male           9          30         25   \n",
       "1889     z969     Naftisol  Male           9          30         30   \n",
       "1890     z969     Naftisol  Male           9          30         35   \n",
       "1891     z969     Naftisol  Male           9          30         40   \n",
       "1892     z969     Naftisol  Male           9          30         45   \n",
       "\n",
       "      Tumor Volume (mm3)  Metastatic Sites  \n",
       "0              45.000000                 0  \n",
       "1              38.825898                 0  \n",
       "2              35.014271                 1  \n",
       "3              34.223992                 1  \n",
       "4              32.997729                 1  \n",
       "...                  ...               ...  \n",
       "1888           63.145652                 2  \n",
       "1889           65.841013                 3  \n",
       "1890           69.176246                 4  \n",
       "1891           70.314904                 4  \n",
       "1892           73.867845                 4  \n",
       "\n",
       "[1893 rows x 8 columns]"
      ]
     },
     "execution_count": 3,
     "metadata": {},
     "output_type": "execute_result"
    }
   ],
   "source": [
    "# Combine the data into a single dataset\n",
    "merged_df = mouse_metadata.merge(study_results, on = \"Mouse ID\", how = \"outer\")\n",
    "merged_df\n",
    "# Display the data table for preview"
   ]
  },
  {
   "cell_type": "code",
   "execution_count": 4,
   "metadata": {},
   "outputs": [
    {
     "data": {
      "text/plain": [
       "249"
      ]
     },
     "execution_count": 4,
     "metadata": {},
     "output_type": "execute_result"
    }
   ],
   "source": [
    "# Checking the number of mice.\n",
    "len(merged_df[\"Mouse ID\"].unique())"
   ]
  },
  {
   "cell_type": "code",
   "execution_count": 5,
   "metadata": {},
   "outputs": [],
   "source": [
    "# Getting the duplicate mice by ID number that shows up for Mouse ID and Timepoint. \n",
    "dupl = merged_df[merged_df.duplicated(subset = ['Mouse ID', 'Timepoint'], keep = False)]"
   ]
  },
  {
   "cell_type": "code",
   "execution_count": 6,
   "metadata": {},
   "outputs": [
    {
     "data": {
      "text/html": [
       "<div>\n",
       "<style scoped>\n",
       "    .dataframe tbody tr th:only-of-type {\n",
       "        vertical-align: middle;\n",
       "    }\n",
       "\n",
       "    .dataframe tbody tr th {\n",
       "        vertical-align: top;\n",
       "    }\n",
       "\n",
       "    .dataframe thead th {\n",
       "        text-align: right;\n",
       "    }\n",
       "</style>\n",
       "<table border=\"1\" class=\"dataframe\">\n",
       "  <thead>\n",
       "    <tr style=\"text-align: right;\">\n",
       "      <th></th>\n",
       "      <th>Mouse ID</th>\n",
       "      <th>Drug Regimen</th>\n",
       "      <th>Sex</th>\n",
       "      <th>Age_months</th>\n",
       "      <th>Weight (g)</th>\n",
       "      <th>Timepoint</th>\n",
       "      <th>Tumor Volume (mm3)</th>\n",
       "      <th>Metastatic Sites</th>\n",
       "    </tr>\n",
       "  </thead>\n",
       "  <tbody>\n",
       "    <tr>\n",
       "      <th>908</th>\n",
       "      <td>g989</td>\n",
       "      <td>Propriva</td>\n",
       "      <td>Female</td>\n",
       "      <td>21</td>\n",
       "      <td>26</td>\n",
       "      <td>0</td>\n",
       "      <td>45.000000</td>\n",
       "      <td>0</td>\n",
       "    </tr>\n",
       "    <tr>\n",
       "      <th>909</th>\n",
       "      <td>g989</td>\n",
       "      <td>Propriva</td>\n",
       "      <td>Female</td>\n",
       "      <td>21</td>\n",
       "      <td>26</td>\n",
       "      <td>0</td>\n",
       "      <td>45.000000</td>\n",
       "      <td>0</td>\n",
       "    </tr>\n",
       "    <tr>\n",
       "      <th>910</th>\n",
       "      <td>g989</td>\n",
       "      <td>Propriva</td>\n",
       "      <td>Female</td>\n",
       "      <td>21</td>\n",
       "      <td>26</td>\n",
       "      <td>5</td>\n",
       "      <td>48.786801</td>\n",
       "      <td>0</td>\n",
       "    </tr>\n",
       "    <tr>\n",
       "      <th>911</th>\n",
       "      <td>g989</td>\n",
       "      <td>Propriva</td>\n",
       "      <td>Female</td>\n",
       "      <td>21</td>\n",
       "      <td>26</td>\n",
       "      <td>5</td>\n",
       "      <td>47.570392</td>\n",
       "      <td>0</td>\n",
       "    </tr>\n",
       "    <tr>\n",
       "      <th>912</th>\n",
       "      <td>g989</td>\n",
       "      <td>Propriva</td>\n",
       "      <td>Female</td>\n",
       "      <td>21</td>\n",
       "      <td>26</td>\n",
       "      <td>10</td>\n",
       "      <td>51.745156</td>\n",
       "      <td>0</td>\n",
       "    </tr>\n",
       "  </tbody>\n",
       "</table>\n",
       "</div>"
      ],
      "text/plain": [
       "    Mouse ID Drug Regimen     Sex  Age_months  Weight (g)  Timepoint  \\\n",
       "908     g989     Propriva  Female          21          26          0   \n",
       "909     g989     Propriva  Female          21          26          0   \n",
       "910     g989     Propriva  Female          21          26          5   \n",
       "911     g989     Propriva  Female          21          26          5   \n",
       "912     g989     Propriva  Female          21          26         10   \n",
       "\n",
       "     Tumor Volume (mm3)  Metastatic Sites  \n",
       "908           45.000000                 0  \n",
       "909           45.000000                 0  \n",
       "910           48.786801                 0  \n",
       "911           47.570392                 0  \n",
       "912           51.745156                 0  "
      ]
     },
     "execution_count": 6,
     "metadata": {},
     "output_type": "execute_result"
    }
   ],
   "source": [
    "# Optional: Get all the data for the duplicate mouse ID. \n",
    "dupl.head()"
   ]
  },
  {
   "cell_type": "code",
   "execution_count": 7,
   "metadata": {},
   "outputs": [],
   "source": [
    "# Create a clean DataFrame by dropping the duplicate mouse by its ID.\n",
    "clean_df = merged_df.drop_duplicates(subset = [\"Mouse ID\", \"Timepoint\"], keep = False)\n",
    "clean_df[clean_df.duplicated(subset = ['Mouse ID', 'Timepoint'], keep = False)]\n",
    "\n",
    "dup_mouse = \", \".join(dupl['Mouse ID'].unique())\n",
    "\n",
    "cleanDF = merged_df[merged_df[\"Mouse ID\"] != dup_mouse]\n"
   ]
  },
  {
   "cell_type": "code",
   "execution_count": 8,
   "metadata": {},
   "outputs": [
    {
     "data": {
      "text/plain": [
       "248"
      ]
     },
     "execution_count": 8,
     "metadata": {},
     "output_type": "execute_result"
    }
   ],
   "source": [
    "# Checking the number of mice in the clean DataFrame.\n",
    "len(cleanDF['Mouse ID'].unique())"
   ]
  },
  {
   "cell_type": "markdown",
   "metadata": {},
   "source": [
    "## Summary Statistics"
   ]
  },
  {
   "cell_type": "code",
   "execution_count": 9,
   "metadata": {},
   "outputs": [
    {
     "data": {
      "text/html": [
       "<div>\n",
       "<style scoped>\n",
       "    .dataframe tbody tr th:only-of-type {\n",
       "        vertical-align: middle;\n",
       "    }\n",
       "\n",
       "    .dataframe tbody tr th {\n",
       "        vertical-align: top;\n",
       "    }\n",
       "\n",
       "    .dataframe thead th {\n",
       "        text-align: right;\n",
       "    }\n",
       "</style>\n",
       "<table border=\"1\" class=\"dataframe\">\n",
       "  <thead>\n",
       "    <tr style=\"text-align: right;\">\n",
       "      <th></th>\n",
       "      <th>Drug Regimen</th>\n",
       "      <th>count</th>\n",
       "      <th>mean</th>\n",
       "      <th>std</th>\n",
       "      <th>min</th>\n",
       "      <th>25%</th>\n",
       "      <th>50%</th>\n",
       "      <th>75%</th>\n",
       "      <th>max</th>\n",
       "      <th>median</th>\n",
       "      <th>variance</th>\n",
       "      <th>SEM</th>\n",
       "    </tr>\n",
       "  </thead>\n",
       "  <tbody>\n",
       "    <tr>\n",
       "      <th>0</th>\n",
       "      <td>Capomulin</td>\n",
       "      <td>230.0</td>\n",
       "      <td>40.675741</td>\n",
       "      <td>4.994774</td>\n",
       "      <td>23.343598</td>\n",
       "      <td>37.685933</td>\n",
       "      <td>41.557809</td>\n",
       "      <td>45.000000</td>\n",
       "      <td>48.158209</td>\n",
       "      <td>41.557809</td>\n",
       "      <td>24.947764</td>\n",
       "      <td>0.329346</td>\n",
       "    </tr>\n",
       "    <tr>\n",
       "      <th>1</th>\n",
       "      <td>Ceftamin</td>\n",
       "      <td>178.0</td>\n",
       "      <td>52.591172</td>\n",
       "      <td>6.268188</td>\n",
       "      <td>45.000000</td>\n",
       "      <td>47.208427</td>\n",
       "      <td>51.776157</td>\n",
       "      <td>56.801438</td>\n",
       "      <td>68.923185</td>\n",
       "      <td>51.776157</td>\n",
       "      <td>39.290177</td>\n",
       "      <td>0.469821</td>\n",
       "    </tr>\n",
       "    <tr>\n",
       "      <th>2</th>\n",
       "      <td>Infubinol</td>\n",
       "      <td>178.0</td>\n",
       "      <td>52.884795</td>\n",
       "      <td>6.567243</td>\n",
       "      <td>36.321346</td>\n",
       "      <td>47.312353</td>\n",
       "      <td>51.820584</td>\n",
       "      <td>57.314444</td>\n",
       "      <td>72.226731</td>\n",
       "      <td>51.820584</td>\n",
       "      <td>43.128684</td>\n",
       "      <td>0.492236</td>\n",
       "    </tr>\n",
       "    <tr>\n",
       "      <th>3</th>\n",
       "      <td>Ketapril</td>\n",
       "      <td>188.0</td>\n",
       "      <td>55.235638</td>\n",
       "      <td>8.279709</td>\n",
       "      <td>45.000000</td>\n",
       "      <td>48.232987</td>\n",
       "      <td>53.698743</td>\n",
       "      <td>60.870951</td>\n",
       "      <td>78.567014</td>\n",
       "      <td>53.698743</td>\n",
       "      <td>68.553577</td>\n",
       "      <td>0.603860</td>\n",
       "    </tr>\n",
       "    <tr>\n",
       "      <th>4</th>\n",
       "      <td>Naftisol</td>\n",
       "      <td>186.0</td>\n",
       "      <td>54.331565</td>\n",
       "      <td>8.134708</td>\n",
       "      <td>45.000000</td>\n",
       "      <td>47.285874</td>\n",
       "      <td>52.509285</td>\n",
       "      <td>59.963034</td>\n",
       "      <td>76.668817</td>\n",
       "      <td>52.509285</td>\n",
       "      <td>66.173479</td>\n",
       "      <td>0.596466</td>\n",
       "    </tr>\n",
       "    <tr>\n",
       "      <th>5</th>\n",
       "      <td>Placebo</td>\n",
       "      <td>181.0</td>\n",
       "      <td>54.033581</td>\n",
       "      <td>7.821003</td>\n",
       "      <td>45.000000</td>\n",
       "      <td>47.459053</td>\n",
       "      <td>52.288934</td>\n",
       "      <td>59.916934</td>\n",
       "      <td>73.212939</td>\n",
       "      <td>52.288934</td>\n",
       "      <td>61.168083</td>\n",
       "      <td>0.581331</td>\n",
       "    </tr>\n",
       "    <tr>\n",
       "      <th>6</th>\n",
       "      <td>Propriva</td>\n",
       "      <td>148.0</td>\n",
       "      <td>52.320930</td>\n",
       "      <td>6.622085</td>\n",
       "      <td>45.000000</td>\n",
       "      <td>46.894328</td>\n",
       "      <td>50.446266</td>\n",
       "      <td>56.491585</td>\n",
       "      <td>72.455421</td>\n",
       "      <td>50.446266</td>\n",
       "      <td>43.852013</td>\n",
       "      <td>0.544332</td>\n",
       "    </tr>\n",
       "    <tr>\n",
       "      <th>7</th>\n",
       "      <td>Ramicane</td>\n",
       "      <td>228.0</td>\n",
       "      <td>40.216745</td>\n",
       "      <td>4.846308</td>\n",
       "      <td>22.050126</td>\n",
       "      <td>36.674635</td>\n",
       "      <td>40.673236</td>\n",
       "      <td>45.000000</td>\n",
       "      <td>47.622816</td>\n",
       "      <td>40.673236</td>\n",
       "      <td>23.486704</td>\n",
       "      <td>0.320955</td>\n",
       "    </tr>\n",
       "    <tr>\n",
       "      <th>8</th>\n",
       "      <td>Stelasyn</td>\n",
       "      <td>181.0</td>\n",
       "      <td>54.233149</td>\n",
       "      <td>7.710419</td>\n",
       "      <td>45.000000</td>\n",
       "      <td>48.047139</td>\n",
       "      <td>52.431737</td>\n",
       "      <td>58.719297</td>\n",
       "      <td>75.123690</td>\n",
       "      <td>52.431737</td>\n",
       "      <td>59.450562</td>\n",
       "      <td>0.573111</td>\n",
       "    </tr>\n",
       "    <tr>\n",
       "      <th>9</th>\n",
       "      <td>Zoniferol</td>\n",
       "      <td>182.0</td>\n",
       "      <td>53.236507</td>\n",
       "      <td>6.966589</td>\n",
       "      <td>45.000000</td>\n",
       "      <td>47.337876</td>\n",
       "      <td>51.818479</td>\n",
       "      <td>57.954259</td>\n",
       "      <td>73.324432</td>\n",
       "      <td>51.818479</td>\n",
       "      <td>48.533355</td>\n",
       "      <td>0.516398</td>\n",
       "    </tr>\n",
       "  </tbody>\n",
       "</table>\n",
       "</div>"
      ],
      "text/plain": [
       "  Drug Regimen  count       mean       std        min        25%        50%  \\\n",
       "0    Capomulin  230.0  40.675741  4.994774  23.343598  37.685933  41.557809   \n",
       "1     Ceftamin  178.0  52.591172  6.268188  45.000000  47.208427  51.776157   \n",
       "2    Infubinol  178.0  52.884795  6.567243  36.321346  47.312353  51.820584   \n",
       "3     Ketapril  188.0  55.235638  8.279709  45.000000  48.232987  53.698743   \n",
       "4     Naftisol  186.0  54.331565  8.134708  45.000000  47.285874  52.509285   \n",
       "5      Placebo  181.0  54.033581  7.821003  45.000000  47.459053  52.288934   \n",
       "6     Propriva  148.0  52.320930  6.622085  45.000000  46.894328  50.446266   \n",
       "7     Ramicane  228.0  40.216745  4.846308  22.050126  36.674635  40.673236   \n",
       "8     Stelasyn  181.0  54.233149  7.710419  45.000000  48.047139  52.431737   \n",
       "9    Zoniferol  182.0  53.236507  6.966589  45.000000  47.337876  51.818479   \n",
       "\n",
       "         75%        max     median   variance       SEM  \n",
       "0  45.000000  48.158209  41.557809  24.947764  0.329346  \n",
       "1  56.801438  68.923185  51.776157  39.290177  0.469821  \n",
       "2  57.314444  72.226731  51.820584  43.128684  0.492236  \n",
       "3  60.870951  78.567014  53.698743  68.553577  0.603860  \n",
       "4  59.963034  76.668817  52.509285  66.173479  0.596466  \n",
       "5  59.916934  73.212939  52.288934  61.168083  0.581331  \n",
       "6  56.491585  72.455421  50.446266  43.852013  0.544332  \n",
       "7  45.000000  47.622816  40.673236  23.486704  0.320955  \n",
       "8  58.719297  75.123690  52.431737  59.450562  0.573111  \n",
       "9  57.954259  73.324432  51.818479  48.533355  0.516398  "
      ]
     },
     "execution_count": 9,
     "metadata": {},
     "output_type": "execute_result"
    }
   ],
   "source": [
    "# Generate a summary statistics table of mean, median, variance, standard deviation, and SEM of the tumor volume for each regimen\n",
    "\n",
    "# Use groupby and summary statistical methods to calculate the following properties of each drug regimen: \n",
    "# mean, median, variance, standard deviation, and SEM of the tumor volume. \n",
    "# Assemble the resulting series into a single summary dataframe.\n",
    "drug_group = cleanDF.groupby('Drug Regimen')\n",
    "\n",
    "summaryDF = drug_group['Tumor Volume (mm3)'].describe().reset_index()\n",
    "\n",
    "medianDF = drug_group['Tumor Volume (mm3)'].median().reset_index()\n",
    "summaryDF = summaryDF.merge(medianDF, on = 'Drug Regimen', how = 'outer').rename(columns = {'Tumor Volume (mm3)' : 'median'})\n",
    "\n",
    "varianceDF = drug_group['Tumor Volume (mm3)'].var().reset_index()\n",
    "summaryDF = summaryDF.merge(varianceDF, on = 'Drug Regimen', how = 'outer').rename(columns = {'Tumor Volume (mm3)' : 'variance'})\n",
    "\n",
    "semDF = drug_group['Tumor Volume (mm3)'].sem().reset_index()\n",
    "summaryDF = summaryDF.merge(semDF, on = 'Drug Regimen', how = 'outer').rename(columns = {'Tumor Volume (mm3)' : 'SEM'})\n",
    "\n",
    "summaryDF\n"
   ]
  },
  {
   "cell_type": "code",
   "execution_count": 10,
   "metadata": {},
   "outputs": [
    {
     "data": {
      "text/html": [
       "<div>\n",
       "<style scoped>\n",
       "    .dataframe tbody tr th:only-of-type {\n",
       "        vertical-align: middle;\n",
       "    }\n",
       "\n",
       "    .dataframe tbody tr th {\n",
       "        vertical-align: top;\n",
       "    }\n",
       "\n",
       "    .dataframe thead th {\n",
       "        text-align: right;\n",
       "    }\n",
       "</style>\n",
       "<table border=\"1\" class=\"dataframe\">\n",
       "  <thead>\n",
       "    <tr style=\"text-align: right;\">\n",
       "      <th></th>\n",
       "      <th>mean</th>\n",
       "      <th>median</th>\n",
       "      <th>var</th>\n",
       "      <th>std</th>\n",
       "      <th>sem</th>\n",
       "    </tr>\n",
       "    <tr>\n",
       "      <th>Drug Regimen</th>\n",
       "      <th></th>\n",
       "      <th></th>\n",
       "      <th></th>\n",
       "      <th></th>\n",
       "      <th></th>\n",
       "    </tr>\n",
       "  </thead>\n",
       "  <tbody>\n",
       "    <tr>\n",
       "      <th>Capomulin</th>\n",
       "      <td>40.675741</td>\n",
       "      <td>41.557809</td>\n",
       "      <td>24.947764</td>\n",
       "      <td>4.994774</td>\n",
       "      <td>0.329346</td>\n",
       "    </tr>\n",
       "    <tr>\n",
       "      <th>Ceftamin</th>\n",
       "      <td>52.591172</td>\n",
       "      <td>51.776157</td>\n",
       "      <td>39.290177</td>\n",
       "      <td>6.268188</td>\n",
       "      <td>0.469821</td>\n",
       "    </tr>\n",
       "    <tr>\n",
       "      <th>Infubinol</th>\n",
       "      <td>52.884795</td>\n",
       "      <td>51.820584</td>\n",
       "      <td>43.128684</td>\n",
       "      <td>6.567243</td>\n",
       "      <td>0.492236</td>\n",
       "    </tr>\n",
       "    <tr>\n",
       "      <th>Ketapril</th>\n",
       "      <td>55.235638</td>\n",
       "      <td>53.698743</td>\n",
       "      <td>68.553577</td>\n",
       "      <td>8.279709</td>\n",
       "      <td>0.603860</td>\n",
       "    </tr>\n",
       "    <tr>\n",
       "      <th>Naftisol</th>\n",
       "      <td>54.331565</td>\n",
       "      <td>52.509285</td>\n",
       "      <td>66.173479</td>\n",
       "      <td>8.134708</td>\n",
       "      <td>0.596466</td>\n",
       "    </tr>\n",
       "    <tr>\n",
       "      <th>Placebo</th>\n",
       "      <td>54.033581</td>\n",
       "      <td>52.288934</td>\n",
       "      <td>61.168083</td>\n",
       "      <td>7.821003</td>\n",
       "      <td>0.581331</td>\n",
       "    </tr>\n",
       "    <tr>\n",
       "      <th>Propriva</th>\n",
       "      <td>52.320930</td>\n",
       "      <td>50.446266</td>\n",
       "      <td>43.852013</td>\n",
       "      <td>6.622085</td>\n",
       "      <td>0.544332</td>\n",
       "    </tr>\n",
       "    <tr>\n",
       "      <th>Ramicane</th>\n",
       "      <td>40.216745</td>\n",
       "      <td>40.673236</td>\n",
       "      <td>23.486704</td>\n",
       "      <td>4.846308</td>\n",
       "      <td>0.320955</td>\n",
       "    </tr>\n",
       "    <tr>\n",
       "      <th>Stelasyn</th>\n",
       "      <td>54.233149</td>\n",
       "      <td>52.431737</td>\n",
       "      <td>59.450562</td>\n",
       "      <td>7.710419</td>\n",
       "      <td>0.573111</td>\n",
       "    </tr>\n",
       "    <tr>\n",
       "      <th>Zoniferol</th>\n",
       "      <td>53.236507</td>\n",
       "      <td>51.818479</td>\n",
       "      <td>48.533355</td>\n",
       "      <td>6.966589</td>\n",
       "      <td>0.516398</td>\n",
       "    </tr>\n",
       "  </tbody>\n",
       "</table>\n",
       "</div>"
      ],
      "text/plain": [
       "                   mean     median        var       std       sem\n",
       "Drug Regimen                                                     \n",
       "Capomulin     40.675741  41.557809  24.947764  4.994774  0.329346\n",
       "Ceftamin      52.591172  51.776157  39.290177  6.268188  0.469821\n",
       "Infubinol     52.884795  51.820584  43.128684  6.567243  0.492236\n",
       "Ketapril      55.235638  53.698743  68.553577  8.279709  0.603860\n",
       "Naftisol      54.331565  52.509285  66.173479  8.134708  0.596466\n",
       "Placebo       54.033581  52.288934  61.168083  7.821003  0.581331\n",
       "Propriva      52.320930  50.446266  43.852013  6.622085  0.544332\n",
       "Ramicane      40.216745  40.673236  23.486704  4.846308  0.320955\n",
       "Stelasyn      54.233149  52.431737  59.450562  7.710419  0.573111\n",
       "Zoniferol     53.236507  51.818479  48.533355  6.966589  0.516398"
      ]
     },
     "execution_count": 10,
     "metadata": {},
     "output_type": "execute_result"
    }
   ],
   "source": [
    "# Generate a summary statistics table of mean, median, variance, standard deviation, and SEM of the tumor volume for each regimen\n",
    "\n",
    "# Using the aggregation method, produce the same summary statistics in a single line\n",
    "drug_group[\"Tumor Volume (mm3)\"].agg(['mean', 'median', 'var', 'std', 'sem'])\n"
   ]
  },
  {
   "cell_type": "markdown",
   "metadata": {},
   "source": [
    "## Bar and Pie Charts"
   ]
  },
  {
   "cell_type": "code",
   "execution_count": 11,
   "metadata": {},
   "outputs": [
    {
     "data": {
      "text/plain": [
       "Text(0, 0.5, 'Total Number of Unique Mice')"
      ]
     },
     "execution_count": 11,
     "metadata": {},
     "output_type": "execute_result"
    },
    {
     "data": {
      "image/png": "[encoded data removed]",
      "text/plain": [
       "<Figure size 432x288 with 1 Axes>"
      ]
     },
     "metadata": {
      "needs_background": "light"
     },
     "output_type": "display_data"
    }
   ],
   "source": [
    "# Generate a bar plot showing the total number of unique mice tested on each drug regimen using pandas.\n",
    "\n",
    "#prep data\n",
    "plot_dat = cleanDF.drop_duplicates(subset = ['Mouse ID', 'Drug Regimen'], keep = 'first')['Drug Regimen'].value_counts()\n",
    "\n",
    "#plot\n",
    "plot_dat.plot(kind = \"bar\", title = \"Total Number of Unique Mice Tested on a Drug Regimen\")\n",
    "plt.xlabel(\"Drug Regimen\")\n",
    "plt.ylabel(\"Total Number of Unique Mice\")"
   ]
  },
  {
   "cell_type": "code",
   "execution_count": 12,
   "metadata": {},
   "outputs": [
    {
     "data": {
      "text/plain": [
       "Text(0, 0.5, 'Total Number of Unique Mice')"
      ]
     },
     "execution_count": 12,
     "metadata": {},
     "output_type": "execute_result"
    },
    {
     "data": {
      "image/png": "[encoded data removed]",
      "text/plain": [
       "<Figure size 432x288 with 1 Axes>"
      ]
     },
     "metadata": {
      "needs_background": "light"
     },
     "output_type": "display_data"
    }
   ],
   "source": [
    "# Generate a bar plot showing the total number of unique mice tested on each drug regimen using pyplot.\n",
    "plt.bar(plot_dat.index, plot_dat.values)\n",
    "plt.xticks(plot_dat.index, rotation = \"vertical\")\n",
    "plt.title(\"Total Number of Unique Mice Tested on a Drug Regimen\")\n",
    "plt.xlabel(\"Drug Regimen\")\n",
    "plt.ylabel(\"Total Number of Unique Mice\")\n"
   ]
  },
  {
   "cell_type": "code",
   "execution_count": 24,
   "metadata": {},
   "outputs": [
    {
     "data": {
      "text/plain": [
       "<matplotlib.axes._subplots.AxesSubplot at 0x7fe7e607e0d0>"
      ]
     },
     "execution_count": 24,
     "metadata": {},
     "output_type": "execute_result"
    },
    {
     "data": {
      "image/png": "[encoded data removed]",
      "text/plain": [
       "<Figure size 432x288 with 1 Axes>"
      ]
     },
     "metadata": {},
     "output_type": "display_data"
    }
   ],
   "source": [
    "# Generate a pie plot showing the distribution of female versus male mice using pandas\n",
    "\n",
    "#prep data\n",
    "sex_dat = cleanDF.drop_duplicates(subset = ['Mouse ID', 'Drug Regimen'], keep = 'first')['Sex'].value_counts()\n",
    "\n",
    "#plot\n",
    "sex_dat.plot.pie(y = sex_dat.values, autopct='%1.1f%%')\n"
   ]
  },
  {
   "cell_type": "code",
   "execution_count": 14,
   "metadata": {},
   "outputs": [
    {
     "data": {
      "text/plain": [
       "([<matplotlib.patches.Wedge at 0x7fe7e587e520>,\n",
       "  <matplotlib.patches.Wedge at 0x7fe7e587e9d0>],\n",
       " [Text(-0.013934097579311132, 1.0999117423341975, 'Male'),\n",
       "  Text(0.013934097579310996, -1.0999117423341975, 'Female')],\n",
       " [Text(-0.007600416861442434, 0.5999518594550168, '50.4%'),\n",
       "  Text(0.007600416861442361, -0.5999518594550168, '49.6%')])"
      ]
     },
     "execution_count": 14,
     "metadata": {},
     "output_type": "execute_result"
    },
    {
     "data": {
      "image/png": "[encoded data removed]",
      "text/plain": [
       "<Figure size 432x288 with 1 Axes>"
      ]
     },
     "metadata": {},
     "output_type": "display_data"
    }
   ],
   "source": [
    "# Generate a pie plot showing the distribution of female versus male mice using pyplot\n",
    "plt.pie(sex_dat.values, labels = [\"Male\", \"Female\"], autopct='%1.1f%%')\n",
    "# sex_dat.values"
   ]
  },
  {
   "cell_type": "markdown",
   "metadata": {},
   "source": [
    "## Quartiles, Outliers and Boxplots"
   ]
  },
  {
   "cell_type": "code",
   "execution_count": 15,
   "metadata": {},
   "outputs": [],
   "source": [
    "# Calculate the final tumor volume of each mouse across four of the treatment regimens:  \n",
    "# Capomulin, Ramicane, Infubinol, and Ceftamin\n",
    "\n",
    "treatment_list = [\"Capomulin\", \"Ramicane\", \"Infubinol\", \"Ceftamin\"]\n",
    "\n",
    "# Method #1:\n",
    "final_tumorvol = cleanDF.sort_values(by = ['Mouse ID', 'Timepoint']).drop_duplicates(subset = ['Mouse ID'], keep = \"last\")\n",
    "final_tumorvol = final_tumorvol[final_tumorvol[\"Drug Regimen\"].isin(treatment_list)]\n",
    "\n",
    "# Method #2:\n",
    "# Start by getting the last (greatest) timepoint for each mouse\n",
    "mouse_group = cleanDF.groupby(['Mouse ID'])\n",
    "max_timepoint = mouse_group['Timepoint'].max().reset_index()\n",
    "# Merge this group df with the original dataframe to get the tumor volume at the last timepoint\n",
    "final_tumorvol2 = max_timepoint.merge(cleanDF, on = ['Mouse ID', 'Timepoint'], how = 'left')\n",
    "final_tumorvol2 = final_tumorvol2[final_tumorvol2[\"Drug Regimen\"].isin(treatment_list)]\n"
   ]
  },
  {
   "cell_type": "code",
   "execution_count": 16,
   "metadata": {},
   "outputs": [
    {
     "data": {
      "text/html": [
       "<div>\n",
       "<style scoped>\n",
       "    .dataframe tbody tr th:only-of-type {\n",
       "        vertical-align: middle;\n",
       "    }\n",
       "\n",
       "    .dataframe tbody tr th {\n",
       "        vertical-align: top;\n",
       "    }\n",
       "\n",
       "    .dataframe thead th {\n",
       "        text-align: right;\n",
       "    }\n",
       "</style>\n",
       "<table border=\"1\" class=\"dataframe\">\n",
       "  <thead>\n",
       "    <tr style=\"text-align: right;\">\n",
       "      <th></th>\n",
       "      <th>Mouse ID</th>\n",
       "      <th>Drug Regimen</th>\n",
       "      <th>Sex</th>\n",
       "      <th>Age_months</th>\n",
       "      <th>Weight (g)</th>\n",
       "      <th>Timepoint</th>\n",
       "      <th>Tumor Volume (mm3)</th>\n",
       "      <th>Metastatic Sites</th>\n",
       "    </tr>\n",
       "  </thead>\n",
       "  <tbody>\n",
       "    <tr>\n",
       "      <th>669</th>\n",
       "      <td>c326</td>\n",
       "      <td>Infubinol</td>\n",
       "      <td>Female</td>\n",
       "      <td>18</td>\n",
       "      <td>25</td>\n",
       "      <td>5</td>\n",
       "      <td>36.321346</td>\n",
       "      <td>0</td>\n",
       "    </tr>\n",
       "  </tbody>\n",
       "</table>\n",
       "</div>"
      ],
      "text/plain": [
       "    Mouse ID Drug Regimen     Sex  Age_months  Weight (g)  Timepoint  \\\n",
       "669     c326    Infubinol  Female          18          25          5   \n",
       "\n",
       "     Tumor Volume (mm3)  Metastatic Sites  \n",
       "669           36.321346                 0  "
      ]
     },
     "execution_count": 16,
     "metadata": {},
     "output_type": "execute_result"
    }
   ],
   "source": [
    "# Put treatments into a list for for loop (and later for plot labels)\n",
    "treatment_list #from previous cell\n",
    "\n",
    "# Create empty list to fill with tumor vol data (for plotting)\n",
    "\n",
    "# Calculate the IQR and quantitatively determine if there are any potential outliers. \n",
    "\n",
    "\n",
    "#initialize DF\n",
    "outlier_combined = pd.DataFrame()\n",
    "\n",
    "for drugs in treatment_list:\n",
    "    #loop through each drug\n",
    "    drugfilter_df = final_tumorvol.query(\"`Drug Regimen` == @drugs\")\n",
    "    \n",
    "    #calculate upper and lower fence for each drug\n",
    "    q1, q3 = np.percentile(drugfilter_df['Tumor Volume (mm3)'], [25, 75])\n",
    "    iqr = q3 - q1\n",
    "    upperfence, lowerfence = [q3 + 1.5 * iqr, q1 - 1.5 * iqr]\n",
    "\n",
    "    #find outliers and add to DF\n",
    "    outlier_df = drugfilter_df.query(\"`Tumor Volume (mm3)` < @lowerfence or `Tumor Volume (mm3)` > @upperfence\")\n",
    "    outlier_combined = outlier_combined.append(outlier_df)\n",
    "    \n",
    "outlier_combined\n"
   ]
  },
  {
   "cell_type": "code",
   "execution_count": 17,
   "metadata": {},
   "outputs": [
    {
     "data": {
      "text/plain": [
       "<matplotlib.axes._subplots.AxesSubplot at 0x7fe7e58c1d90>"
      ]
     },
     "execution_count": 17,
     "metadata": {},
     "output_type": "execute_result"
    },
    {
     "data": {
      "image/png": "[encoded data removed]",
      "text/plain": [
       "<Figure size 432x288 with 1 Axes>"
      ]
     },
     "metadata": {
      "needs_background": "light"
     },
     "output_type": "display_data"
    }
   ],
   "source": [
    "# Generate a box plot of the final tumor volume of each mouse across four regimens of interest\n",
    "\n",
    "#define flierprop argument to highlight outlier\n",
    "flierprops = dict(marker = 'o', markerfacecolor = 'r', markersize = 6,\n",
    "                  linestyle = 'none', markeredgecolor = 'r')\n",
    "\n",
    "# plot:\n",
    "final_tumorvol.boxplot(column = 'Tumor Volume (mm3)', by = 'Drug Regimen',\n",
    "                      flierprops = flierprops)"
   ]
  },
  {
   "cell_type": "markdown",
   "metadata": {},
   "source": [
    "## Line and Scatter Plots"
   ]
  },
  {
   "cell_type": "code",
   "execution_count": 18,
   "metadata": {},
   "outputs": [
    {
     "name": "stdout",
     "output_type": "stream",
     "text": [
      "Please select a mouse ID from list: ['s185' 'x401' 'm601' 'f966' 'u364' 'y793' 'r554' 'm957' 't565' 'i738'\n",
      " 'w914' 'g288' 'l897' 'b742' 'b128' 'j246' 'j119' 'w150' 'v923' 'g316'\n",
      " 's710' 'l509' 'r944' 'i557' 'r157'] -> v923\n"
     ]
    },
    {
     "data": {
      "text/plain": [
       "Text(0.5, 1.0, 'Tumor Volume by Timepoint for Mouse ID: v923')"
      ]
     },
     "execution_count": 18,
     "metadata": {},
     "output_type": "execute_result"
    },
    {
     "data": {
      "image/png": "[encoded data removed]",
      "text/plain": [
       "<Figure size 432x288 with 1 Axes>"
      ]
     },
     "metadata": {
      "needs_background": "light"
     },
     "output_type": "display_data"
    }
   ],
   "source": [
    "# Generate a line plot of tumor volume vs. time point for a mouse treated with Capomulin\n",
    "\n",
    "capo_mice = cleanDF.query(\"`Drug Regimen` == 'Capomulin'\")['Mouse ID'].unique()\n",
    "\n",
    "while True:\n",
    "    mouse = input(f\"Please select a mouse ID from list: {capo_mice} -> \")\n",
    "    if mouse in capo_mice:\n",
    "        break\n",
    "    else:\n",
    "        print(\"Please select a mouse ID from the list.\")\n",
    "        continue\n",
    "\n",
    "linescatterDF = cleanDF.query(\"`Drug Regimen` == 'Capomulin' & `Mouse ID` == @mouse\")\n",
    "linescatterDF.plot.line(x = 'Timepoint', y = 'Tumor Volume (mm3)')\n",
    "plt.ylabel(\"Tumor Volume (mm3)\")\n",
    "plt.title(f\"Tumor Volume by Timepoint for Mouse ID: {mouse}\")"
   ]
  },
  {
   "cell_type": "code",
   "execution_count": 19,
   "metadata": {},
   "outputs": [
    {
     "data": {
      "text/plain": [
       "Text(0.5, 1.0, 'Average Tumor Volume by Weight of Mice for Capomulin')"
      ]
     },
     "execution_count": 19,
     "metadata": {},
     "output_type": "execute_result"
    },
    {
     "data": {
      "image/png": "[encoded data removed]",
      "text/plain": [
       "<Figure size 432x288 with 1 Axes>"
      ]
     },
     "metadata": {
      "needs_background": "light"
     },
     "output_type": "display_data"
    }
   ],
   "source": [
    "# Generate a scatter plot of average tumor volume vs. mouse weight for the Capomulin regimen\n",
    "avg_tumorvol = cleanDF.query(\"`Drug Regimen` == 'Capomulin'\").groupby('Weight (g)')['Tumor Volume (mm3)'].mean()\n",
    "avg_tumorvol = avg_tumorvol.reset_index()\n",
    "avg_tumorvol.plot.scatter(x = 'Weight (g)', y = 'Tumor Volume (mm3)')\n",
    "plt.title(\"Average Tumor Volume by Weight of Mice for Capomulin\")"
   ]
  },
  {
   "cell_type": "markdown",
   "metadata": {},
   "source": [
    "## Correlation and Regression"
   ]
  },
  {
   "cell_type": "code",
   "execution_count": 20,
   "metadata": {},
   "outputs": [
    {
     "name": "stdout",
     "output_type": "stream",
     "text": [
      "LinregressResult(slope=0.894772609734063, intercept=22.764229983591896, rvalue=0.950524396185527, pvalue=8.449451040646223e-05, stderr=0.1105278286274132)\n",
      "(0.9505243961855269, 8.449451040646294e-05)\n"
     ]
    }
   ],
   "source": [
    "# Calculate the correlation coefficient and linear regression model \n",
    "# for mouse weight and average tumor volume for the Capomulin regimen\n",
    "print(st.linregress(x = avg_tumorvol['Weight (g)'], y = avg_tumorvol['Tumor Volume (mm3)']))\n",
    "print(st.pearsonr(x = avg_tumorvol['Weight (g)'], y = avg_tumorvol['Tumor Volume (mm3)']))"
   ]
  },
  {
   "cell_type": "code",
   "execution_count": 21,
   "metadata": {},
   "outputs": [],
   "source": [
    "#insights\n",
    "#1 There appears to be a positive correlation between relationship between weight(g) and tumor volume for the mice that were given Capomulin\n",
    "#2 There is only one outlier (1.5IQR) in tumor volume in the data set and it's with the drug Infubinol.  \n",
    "#3 There's an even distribution of mice between drugs and gender. "
   ]
  }
 ],
 "metadata": {
  "anaconda-cloud": {},
  "kernelspec": {
   "display_name": "Python 3",
   "language": "python",
   "name": "python3"
  },
  "language_info": {
   "codemirror_mode": {
    "name": "ipython",
    "version": 3
   },
   "file_extension": ".py",
   "mimetype": "text/x-python",
   "name": "python",
   "nbconvert_exporter": "python",
   "pygments_lexer": "ipython3",
   "version": "3.8.3"
  }
 },
 "nbformat": 4,
 "nbformat_minor": 4
}
